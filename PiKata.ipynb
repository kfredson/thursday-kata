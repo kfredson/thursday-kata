{
 "cells": [
  {
   "cell_type": "code",
   "execution_count": 81,
   "metadata": {},
   "outputs": [
    {
     "data": {
      "text/plain": [
       "[<matplotlib.lines.Line2D at 0x14111860>]"
      ]
     },
     "execution_count": 81,
     "metadata": {},
     "output_type": "execute_result"
    },
    {
     "data": {
      "image/png": "[encoded data removed]",
      "text/plain": [
       "<matplotlib.figure.Figure at 0x6cc7080>"
      ]
     },
     "metadata": {},
     "output_type": "display_data"
    }
   ],
   "source": [
    "%matplotlib inline\n",
    "import matplotlib.pyplot as plt\n",
    "import math\n",
    "\n",
    "#Idea for approximating pi: \n",
    "#Trace out an upper and lower boundary of a circle of radius r in the 1st quadrant, using integer coordinates\n",
    "#r is any positive integer (large to actually get a good approximation of pi)\n",
    "#Calculate the area under the upper boundary (AUB) and the area under the lower boundary (ALB)\n",
    "#pi/4 will be between AUB/r^2 and ALB/r^2\n",
    "def getUpperLowerBounds(radius):\n",
    "    y = radius\n",
    "    distSq = radius*radius\n",
    "    upperBounds = []\n",
    "    upperBoundsXCoords = []\n",
    "    lowerBounds = []\n",
    "    for x in xrange(radius):\n",
    "        xSq = x*x\n",
    "        while not (y*y+xSq <= distSq and (y+1)*(y+1)+xSq > distSq):\n",
    "            y -= 1\n",
    "        #If (x,y) is exactly on the circle, we can use\n",
    "        #y as both upper and lower bound\n",
    "        nextUpperBound = 0\n",
    "        if (y*y+xSq==distSq):\n",
    "            nextUpperBound = y\n",
    "        else:\n",
    "            nextUpperBound = y+1\n",
    "        lowerBounds.append(y)\n",
    "        #Add rectangular indent behind current point\n",
    "        #Upper bound edge will all be made of 90 degree angles unlike lower bound edge\n",
    "        if len(upperBounds) > 0 and upperBounds[-1]!=nextUpperBound:\n",
    "            upperBoundsXCoords.append(x)\n",
    "            upperBounds.append(upperBounds[-1])\n",
    "        upperBoundsXCoords.append(x)\n",
    "        upperBounds.append(nextUpperBound)\n",
    "    upperBoundsXCoords.append(radius)\n",
    "    upperBounds.append(upperBounds[-1])\n",
    "    upperBoundsXCoords.append(radius)\n",
    "    upperBounds.append(0)\n",
    "    lowerBounds.append(0)\n",
    "    return [upperBoundsXCoords,upperBounds,lowerBounds]\n",
    "\n",
    "#Let's graph this for a small radius\n",
    "radius = 5\n",
    "pts = getUpperLowerBounds(radius)\n",
    "fig, ax = plt.subplots()\n",
    "ax.set_aspect(1.0)\n",
    "ax.set_xlim(0,10)\n",
    "ax.set_ylim(0,10)\n",
    "plt.plot(pts[0],pts[1])\n",
    "plt.plot(pts[2])\n",
    "plt.plot([0.1*i for i in range(0,10*radius+1)],[math.sqrt(radius*radius-0.1*i*0.1*i) for i in range(0,10*radius+1)])\n",
    "#Upper bound is given by the area under the blue line, lower bound is given by the area under the orange line!"
   ]
  },
  {
   "cell_type": "code",
   "execution_count": 82,
   "metadata": {},
   "outputs": [
    {
     "data": {
      "text/plain": [
       "[<matplotlib.lines.Line2D at 0x13b527b8>]"
      ]
     },
     "execution_count": 82,
     "metadata": {},
     "output_type": "execute_result"
    },
    {
     "data": {
      "image/png": "[encoded data removed]",
      "text/plain": [
       "<matplotlib.figure.Figure at 0xabca240>"
      ]
     },
     "metadata": {},
     "output_type": "display_data"
    }
   ],
   "source": [
    "#Now a bigger radius...\n",
    "radius = 20\n",
    "pts = getUpperLowerBounds(radius)\n",
    "fig, ax = plt.subplots()\n",
    "ax.set_aspect(1.0)\n",
    "ax.set_xlim(0,25)\n",
    "ax.set_ylim(0,25)\n",
    "plt.plot(pts[0],pts[1])\n",
    "plt.plot(pts[2])\n",
    "plt.plot([0.1*i for i in range(0,10*radius+1)],[math.sqrt(radius*radius-0.1*i*0.1*i) for i in range(0,10*radius+1)])"
   ]
  },
  {
   "cell_type": "code",
   "execution_count": 83,
   "metadata": {},
   "outputs": [
    {
     "name": "stdout",
     "output_type": "stream",
     "text": [
      "(3.52, 2.8)\n",
      "(3.31, 3.04)\n",
      "(3.14199016, 3.14139052)\n"
     ]
    }
   ],
   "source": [
    "#Actual code for calculating upper and lower bounds of pi:\n",
    "def getPiBounds(radius):\n",
    "    ub = 0\n",
    "    lb = 0\n",
    "    y = radius\n",
    "    distSq = radius*radius\n",
    "    for x in xrange(radius):\n",
    "        xSq = x*x\n",
    "        while not (y*y+xSq <= distSq and (y+1)*(y+1)+xSq > distSq):\n",
    "            y -= 1\n",
    "        #If (x,y) is exactly on the circle, we can use\n",
    "        #y as both upper and lower bound\n",
    "        if (y*y+xSq==distSq):\n",
    "            ub += y\n",
    "        else:\n",
    "            ub += y+1\n",
    "        lb += y\n",
    "    #Lower bound uses trapezoid rule\n",
    "    lb = float(2*lb-radius)/2\n",
    "    return (4*float(ub)/distSq,4*lb/distSq)\n",
    "\n",
    "print getPiBounds(5)\n",
    "print getPiBounds(20)\n",
    "print getPiBounds(10000)\n",
    "#Test to make sure we are calculating areas right: By looking at the above graph, \n",
    "#the upper & lower bounds for radius = 5 look like (4.5+4+4+3.5+1.5)/25 (lower) and\n",
    "#(5*3+4+3)/25 (upper)\n",
    "assert getPiBounds(5)==(4*float(5*3+4+3)/25,4*float(4.5+4+4+3.5+1.5)/25)"
   ]
  },
  {
   "cell_type": "code",
   "execution_count": 107,
   "metadata": {},
   "outputs": [
    {
     "name": "stdout",
     "output_type": "stream",
     "text": [
      "(3.141592693586789, 3.141592633586796)\n",
      "Took 145.379392 seconds\n"
     ]
    }
   ],
   "source": [
    "#Setting radius = 100 million gets 7 correct digits after the decimal point\n",
    "#Takes about 2.5 minutes on my VM\n",
    "import timeit\n",
    "t = timeit.Timer('x = getPiBounds(100000000); print x', 'from __main__ import getPiBounds')\n",
    "time = t.timeit(1)\n",
    "print \"Took \"+str(time)+\" seconds\""
   ]
  }
 ],
 "metadata": {
  "kernelspec": {
   "display_name": "Python 2",
   "language": "python",
   "name": "python2"
  },
  "language_info": {
   "codemirror_mode": {
    "name": "ipython",
    "version": 2
   },
   "file_extension": ".py",
   "mimetype": "text/x-python",
   "name": "python",
   "nbconvert_exporter": "python",
   "pygments_lexer": "ipython2",
   "version": "2.7.14"
  }
 },
 "nbformat": 4,
 "nbformat_minor": 2
}
